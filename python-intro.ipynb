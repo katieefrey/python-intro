{
 "cells": [
  {
   "cell_type": "code",
   "execution_count": 1,
   "metadata": {},
   "outputs": [
    {
     "name": "stdout",
     "output_type": "stream",
     "text": [
      "Hello World\n"
     ]
    }
   ],
   "source": [
    "print(\"Hello World\")"
   ]
  },
  {
   "cell_type": "code",
   "execution_count": 2,
   "metadata": {},
   "outputs": [
    {
     "data": {
      "text/plain": [
       "4"
      ]
     },
     "execution_count": 2,
     "metadata": {},
     "output_type": "execute_result"
    }
   ],
   "source": [
    "2+2"
   ]
  },
  {
   "cell_type": "code",
   "execution_count": 3,
   "metadata": {},
   "outputs": [],
   "source": [
    "var = \"This is a string\""
   ]
  },
  {
   "cell_type": "code",
   "execution_count": 5,
   "metadata": {},
   "outputs": [
    {
     "name": "stdout",
     "output_type": "stream",
     "text": [
      "This is a string\n"
     ]
    }
   ],
   "source": [
    "print(var)"
   ]
  },
  {
   "cell_type": "code",
   "execution_count": 7,
   "metadata": {},
   "outputs": [
    {
     "name": "stdout",
     "output_type": "stream",
     "text": [
      "var\n"
     ]
    }
   ],
   "source": [
    "print(\"var\")"
   ]
  },
  {
   "cell_type": "code",
   "execution_count": 8,
   "metadata": {},
   "outputs": [
    {
     "name": "stdout",
     "output_type": "stream",
     "text": [
      "11\n"
     ]
    }
   ],
   "source": [
    "total = 3+8\n",
    "print(total)"
   ]
  },
  {
   "cell_type": "code",
   "execution_count": 9,
   "metadata": {},
   "outputs": [
    {
     "data": {
      "text/plain": [
       "int"
      ]
     },
     "execution_count": 9,
     "metadata": {},
     "output_type": "execute_result"
    }
   ],
   "source": [
    "type(total)"
   ]
  },
  {
   "cell_type": "code",
   "execution_count": 10,
   "metadata": {},
   "outputs": [
    {
     "data": {
      "text/plain": [
       "str"
      ]
     },
     "execution_count": 10,
     "metadata": {},
     "output_type": "execute_result"
    }
   ],
   "source": [
    "type(var)"
   ]
  },
  {
   "cell_type": "code",
   "execution_count": 53,
   "metadata": {},
   "outputs": [
    {
     "name": "stdout",
     "output_type": "stream",
     "text": [
      "1\n",
      "2\n",
      "3\n"
     ]
    }
   ],
   "source": [
    "for x in range(1,4):\n",
    "    print(x)"
   ]
  },
  {
   "cell_type": "markdown",
   "metadata": {},
   "source": [
    "### Lists"
   ]
  },
  {
   "cell_type": "code",
   "execution_count": 12,
   "metadata": {},
   "outputs": [
    {
     "name": "stdout",
     "output_type": "stream",
     "text": [
      "[1, 2, 3, 4]\n"
     ]
    }
   ],
   "source": [
    "list1 = [1, 2, 3,4]\n",
    "print(list1)"
   ]
  },
  {
   "cell_type": "code",
   "execution_count": 54,
   "metadata": {},
   "outputs": [
    {
     "ename": "NameError",
     "evalue": "name 'a' is not defined",
     "output_type": "error",
     "traceback": [
      "\u001b[1;31m---------------------------------------------------------------------------\u001b[0m",
      "\u001b[1;31mNameError\u001b[0m                                 Traceback (most recent call last)",
      "\u001b[1;32m<ipython-input-54-7368b4205e13>\u001b[0m in \u001b[0;36m<module>\u001b[1;34m\u001b[0m\n\u001b[1;32m----> 1\u001b[1;33m \u001b[0mlist2\u001b[0m \u001b[1;33m=\u001b[0m \u001b[1;33m[\u001b[0m\u001b[0ma\u001b[0m\u001b[1;33m,\u001b[0m\u001b[0mb\u001b[0m\u001b[1;33m,\u001b[0m\u001b[0mc\u001b[0m\u001b[1;33m,\u001b[0m\u001b[0md\u001b[0m\u001b[1;33m]\u001b[0m\u001b[1;33m\u001b[0m\u001b[1;33m\u001b[0m\u001b[0m\n\u001b[0m\u001b[0;32m      2\u001b[0m \u001b[0mprint\u001b[0m\u001b[1;33m(\u001b[0m\u001b[0mlist2\u001b[0m\u001b[1;33m)\u001b[0m\u001b[1;33m\u001b[0m\u001b[1;33m\u001b[0m\u001b[0m\n",
      "\u001b[1;31mNameError\u001b[0m: name 'a' is not defined"
     ]
    }
   ],
   "source": [
    "list2 = [a,b,c,d]\n",
    "print(list2)"
   ]
  },
  {
   "cell_type": "code",
   "execution_count": 14,
   "metadata": {},
   "outputs": [
    {
     "name": "stdout",
     "output_type": "stream",
     "text": [
      "['a', 'b', 'c', 'd']\n"
     ]
    }
   ],
   "source": [
    "list2 = [\"a\",\"b\",\"c\",\"d\"]\n",
    "print(list2)"
   ]
  },
  {
   "cell_type": "code",
   "execution_count": 16,
   "metadata": {},
   "outputs": [
    {
     "name": "stdout",
     "output_type": "stream",
     "text": [
      "4\n"
     ]
    }
   ],
   "source": [
    "print(list1[3])"
   ]
  },
  {
   "cell_type": "code",
   "execution_count": 17,
   "metadata": {},
   "outputs": [
    {
     "name": "stdout",
     "output_type": "stream",
     "text": [
      "1\n"
     ]
    }
   ],
   "source": [
    "print(list1[0])"
   ]
  },
  {
   "cell_type": "code",
   "execution_count": 62,
   "metadata": {},
   "outputs": [
    {
     "name": "stdout",
     "output_type": "stream",
     "text": [
      "c\n"
     ]
    }
   ],
   "source": [
    "print(list2[2])"
   ]
  },
  {
   "cell_type": "code",
   "execution_count": 83,
   "metadata": {},
   "outputs": [],
   "source": [
    "list3 = [\"apes\",\"banana\",\"cat\",\"dog\"]"
   ]
  },
  {
   "cell_type": "code",
   "execution_count": 84,
   "metadata": {},
   "outputs": [
    {
     "name": "stdout",
     "output_type": "stream",
     "text": [
      "['apes', 'banana', 'cat', 'dog']\n"
     ]
    }
   ],
   "source": [
    "print(list3)"
   ]
  },
  {
   "cell_type": "code",
   "execution_count": 85,
   "metadata": {},
   "outputs": [
    {
     "name": "stdout",
     "output_type": "stream",
     "text": [
      "apes\n"
     ]
    }
   ],
   "source": [
    "print(list3[0])"
   ]
  },
  {
   "cell_type": "code",
   "execution_count": 86,
   "metadata": {},
   "outputs": [
    {
     "name": "stdout",
     "output_type": "stream",
     "text": [
      "apes\n"
     ]
    }
   ],
   "source": [
    "var2 = list3[0]\n",
    "print(var2)"
   ]
  },
  {
   "cell_type": "code",
   "execution_count": 87,
   "metadata": {},
   "outputs": [
    {
     "name": "stdout",
     "output_type": "stream",
     "text": [
      "apes blarh\n",
      "banana blarh\n",
      "cat blarh\n",
      "dog blarh\n"
     ]
    }
   ],
   "source": [
    "for x in list3:\n",
    "    print(x + \" blarh\")"
   ]
  },
  {
   "cell_type": "code",
   "execution_count": 88,
   "metadata": {},
   "outputs": [],
   "source": [
    "list4 = list3 + [\"blarh\"]"
   ]
  },
  {
   "cell_type": "code",
   "execution_count": 89,
   "metadata": {},
   "outputs": [
    {
     "name": "stdout",
     "output_type": "stream",
     "text": [
      "['apes', 'banana', 'cat', 'dog', 'blarh']\n"
     ]
    }
   ],
   "source": [
    "print(list4)"
   ]
  },
  {
   "cell_type": "code",
   "execution_count": 90,
   "metadata": {},
   "outputs": [],
   "source": [
    "list4[0] = \"apples\""
   ]
  },
  {
   "cell_type": "code",
   "execution_count": 91,
   "metadata": {},
   "outputs": [
    {
     "name": "stdout",
     "output_type": "stream",
     "text": [
      "['apples', 'banana', 'cat', 'dog', 'blarh']\n"
     ]
    }
   ],
   "source": [
    "print(list4)"
   ]
  },
  {
   "cell_type": "code",
   "execution_count": null,
   "metadata": {},
   "outputs": [],
   "source": []
  },
  {
   "cell_type": "code",
   "execution_count": null,
   "metadata": {},
   "outputs": [],
   "source": []
  },
  {
   "cell_type": "code",
   "execution_count": null,
   "metadata": {},
   "outputs": [],
   "source": []
  },
  {
   "cell_type": "code",
   "execution_count": null,
   "metadata": {},
   "outputs": [],
   "source": []
  },
  {
   "cell_type": "code",
   "execution_count": null,
   "metadata": {},
   "outputs": [],
   "source": []
  },
  {
   "cell_type": "markdown",
   "metadata": {},
   "source": [
    "### Dictionaries"
   ]
  },
  {
   "cell_type": "code",
   "execution_count": 19,
   "metadata": {},
   "outputs": [
    {
     "name": "stdout",
     "output_type": "stream",
     "text": [
      "{'a': 1, 'b': 2, 'c': 3, 'd': 4}\n"
     ]
    }
   ],
   "source": [
    "dict1 = {\"a\":1, \"b\":2, \"c\":3, \"d\":4}\n",
    "print(dict1)"
   ]
  },
  {
   "cell_type": "code",
   "execution_count": null,
   "metadata": {},
   "outputs": [],
   "source": [
    "dict1 = {\n",
    "    \"a\":1,\n",
    "    \"b\":2,\n",
    "    \"c\":3,\n",
    "    \"d\":4\n",
    "}\n",
    "\n",
    "print(dict1)"
   ]
  },
  {
   "cell_type": "code",
   "execution_count": 72,
   "metadata": {},
   "outputs": [
    {
     "name": "stdout",
     "output_type": "stream",
     "text": [
      "{'e': [5, 6, 7], 'f': [8, 9, 10]}\n"
     ]
    }
   ],
   "source": [
    "dict2 = {\"e\":[5,6,7],\"f\":[8,9,10]}\n",
    "print(dict2)"
   ]
  },
  {
   "cell_type": "code",
   "execution_count": 73,
   "metadata": {},
   "outputs": [
    {
     "name": "stdout",
     "output_type": "stream",
     "text": [
      "1\n"
     ]
    }
   ],
   "source": [
    "print(dict1[\"a\"])"
   ]
  },
  {
   "cell_type": "code",
   "execution_count": 74,
   "metadata": {},
   "outputs": [
    {
     "name": "stdout",
     "output_type": "stream",
     "text": [
      "3\n"
     ]
    }
   ],
   "source": [
    "print(dict1[\"c\"])"
   ]
  },
  {
   "cell_type": "code",
   "execution_count": 75,
   "metadata": {},
   "outputs": [
    {
     "name": "stdout",
     "output_type": "stream",
     "text": [
      "[8, 9, 10]\n"
     ]
    }
   ],
   "source": [
    "print(dict2[\"f\"])"
   ]
  },
  {
   "cell_type": "code",
   "execution_count": 76,
   "metadata": {},
   "outputs": [
    {
     "name": "stdout",
     "output_type": "stream",
     "text": [
      "8\n"
     ]
    }
   ],
   "source": [
    "print(dict2[\"f\"][0])"
   ]
  },
  {
   "cell_type": "code",
   "execution_count": 77,
   "metadata": {},
   "outputs": [
    {
     "name": "stdout",
     "output_type": "stream",
     "text": [
      "[5, 6, 7]\n",
      "[8, 9, 10]\n"
     ]
    }
   ],
   "source": [
    "for x in dict2:\n",
    "    print(dict2[x])"
   ]
  },
  {
   "cell_type": "markdown",
   "metadata": {},
   "source": [
    "### Dictionaries of dictionaries..."
   ]
  },
  {
   "cell_type": "code",
   "execution_count": 98,
   "metadata": {},
   "outputs": [],
   "source": [
    "wolbach_staff = {\n",
    "                 \"Daina Bouquin\":{\"title\":\"Head Librarian\", \"Office\":\"P-109\",\"Phone Number\":\"6-7601\"},\n",
    "                 \"Eric Brownell\": {\"title\":\"Collection Development Librarian\", \"Office\":\"PG-06\", \"Phone Number\":\"5-7289\"},\n",
    "                 \"Nico Carver\": {\"title\":\"Librarian for Collaborative Programs\", \"Office\":\"PG-06\", \"Phone Number\":\"5-7494\"},\n",
    "                 \"Daniel Chivvis\": {\"title\":\"Metadata Architecture Research Fellow\", \"Office\":\"P-127\", \"Phone Number\":\" 6-5769\"},\n",
    "                 \"Sam Correia\": {\"title\":\"Assistant Community Coordinator\", \"Office\":\"P-108\", \"Phone Number\":\"6-5769\"},\n",
    "                 \"Katie Frey\":{\"title\":\"Assistant Head Librarian\", \"Office\":\"P-107\", \"Phone Number\":\"6-7579\"},\n",
    "                 \"Shea Hendry\": {\"title\":\"Collections Assistant\", \"Office\":\"P-108\", \"Phone Number\":\"6-5769\"},       \n",
    "                 \"Maria McEachern\": {\"title\":\"Reference Librarian\", \"Office\":\"P-106\", \"Phone Number\":\"5-7266\"},\n",
    "                 \"Giancarlo Romeo\": {\"title\":\"Staff Assistant\", \"Office\":\"P-110\", \"Phone Number\":\"6-7808\"},\n",
    "                 \"Rebecca Tibbitts\": {\"title\":\"Digital Projects Assistant\", \"Office\":\"P-108\", \"Phone Number\":\"6-5769\"},\n",
    "                 \"Allie Williams\": {\"title\":\"MetaSat Project Assistant\", \"Office\":\"P-108\", \"Phone Number\":\"6-5769\"},\n",
    "}\n"
   ]
  },
  {
   "cell_type": "code",
   "execution_count": 99,
   "metadata": {},
   "outputs": [
    {
     "name": "stdout",
     "output_type": "stream",
     "text": [
      "{'Daina Bouquin': {'title': 'Head Librarian', 'Office': 'P-109', 'Phone Number': '6-7601'}, 'Eric Brownell': {'title': 'Collection Development Librarian', 'Office': 'PG-06', 'Phone Number': '5-7289'}, 'Nico Carver': {'title': 'Librarian for Collaborative Programs', 'Office': 'PG-06', 'Phone Number': '5-7494'}, 'Daniel Chivvis': {'title': 'Metadata Architecture Research Fellow', 'Office': 'P-127', 'Phone Number': ' 6-5769'}, 'Sam Correia': {'title': 'Assistant Community Coordinator', 'Office': 'P-108', 'Phone Number': '6-5769'}, 'Katie Frey': {'title': 'Assistant Head Librarian', 'Office': 'P-107', 'Phone Number': '6-7579'}, 'Shea Hendry': {'title': 'Collections Assistant', 'Office': 'P-108', 'Phone Number': '6-5769'}, 'Maria McEachern': {'title': 'Reference Librarian', 'Office': 'P-106', 'Phone Number': '5-7266'}, 'Giancarlo Romeo': {'title': 'Staff Assistant', 'Office': 'P-110', 'Phone Number': '6-7808'}, 'Rebecca Tibbitts': {'title': 'Digital Projects Assistant', 'Office': 'P-108', 'Phone Number': '6-5769'}, 'Allie Williams': {'title': 'MetaSat Project Assistant', 'Office': 'P-108', 'Phone Number': '6-5769'}}\n"
     ]
    }
   ],
   "source": [
    "print(wolbach_staff)"
   ]
  },
  {
   "cell_type": "code",
   "execution_count": 100,
   "metadata": {},
   "outputs": [
    {
     "name": "stdout",
     "output_type": "stream",
     "text": [
      "{'title': 'Staff Assistant', 'Office': 'P-110', 'Phone Number': '6-7808'}\n"
     ]
    }
   ],
   "source": [
    "print(wolbach_staff[\"Giancarlo Romeo\"])"
   ]
  },
  {
   "cell_type": "code",
   "execution_count": 101,
   "metadata": {},
   "outputs": [
    {
     "name": "stdout",
     "output_type": "stream",
     "text": [
      "Daina Bouquin, Head Librarian\n",
      "Eric Brownell, Collection Development Librarian\n",
      "Nico Carver, Librarian for Collaborative Programs\n",
      "Daniel Chivvis, Metadata Architecture Research Fellow\n",
      "Sam Correia, Assistant Community Coordinator\n",
      "Katie Frey, Assistant Head Librarian\n",
      "Shea Hendry, Collections Assistant\n",
      "Maria McEachern, Reference Librarian\n",
      "Giancarlo Romeo, Staff Assistant\n",
      "Rebecca Tibbitts, Digital Projects Assistant\n",
      "Allie Williams, MetaSat Project Assistant\n"
     ]
    }
   ],
   "source": [
    "for x in wolbach_staff:\n",
    "    print(x + \", \" + wolbach_staff[x][\"title\"])"
   ]
  },
  {
   "cell_type": "code",
   "execution_count": 102,
   "metadata": {},
   "outputs": [
    {
     "name": "stdout",
     "output_type": "stream",
     "text": [
      "Please enter your name: \n"
     ]
    }
   ],
   "source": [
    "response = input(\"Please enter your name: \")"
   ]
  },
  {
   "cell_type": "code",
   "execution_count": 103,
   "metadata": {},
   "outputs": [
    {
     "ename": "KeyError",
     "evalue": "''",
     "output_type": "error",
     "traceback": [
      "\u001b[1;31m---------------------------------------------------------------------------\u001b[0m",
      "\u001b[1;31mKeyError\u001b[0m                                  Traceback (most recent call last)",
      "\u001b[1;32m<ipython-input-103-34046f08fc7d>\u001b[0m in \u001b[0;36m<module>\u001b[1;34m\u001b[0m\n\u001b[1;32m----> 1\u001b[1;33m \u001b[0mprint\u001b[0m\u001b[1;33m(\u001b[0m\u001b[1;34m\"You are the \"\u001b[0m\u001b[1;33m+\u001b[0m\u001b[0mwolbach_staff\u001b[0m\u001b[1;33m[\u001b[0m\u001b[0mresponse\u001b[0m\u001b[1;33m]\u001b[0m\u001b[1;33m[\u001b[0m\u001b[1;34m\"title\"\u001b[0m\u001b[1;33m]\u001b[0m\u001b[1;33m+\u001b[0m\u001b[1;34m\", your office is \"\u001b[0m\u001b[1;33m+\u001b[0m\u001b[0mwolbach_staff\u001b[0m\u001b[1;33m[\u001b[0m\u001b[0mresponse\u001b[0m\u001b[1;33m]\u001b[0m\u001b[1;33m[\u001b[0m\u001b[1;34m\"Office\"\u001b[0m\u001b[1;33m]\u001b[0m\u001b[1;33m+\u001b[0m\u001b[1;34m\", and your phone number is \"\u001b[0m\u001b[1;33m+\u001b[0m\u001b[0mwolbach_staff\u001b[0m\u001b[1;33m[\u001b[0m\u001b[0mresponse\u001b[0m\u001b[1;33m]\u001b[0m\u001b[1;33m[\u001b[0m\u001b[1;34m\"Phone Number\"\u001b[0m\u001b[1;33m]\u001b[0m\u001b[1;33m+\u001b[0m\u001b[1;34m\".\"\u001b[0m\u001b[1;33m)\u001b[0m\u001b[1;33m\u001b[0m\u001b[1;33m\u001b[0m\u001b[0m\n\u001b[0m",
      "\u001b[1;31mKeyError\u001b[0m: ''"
     ]
    }
   ],
   "source": [
    "print(\"You are the \"+wolbach_staff[response][\"title\"]+\", your office is \"+wolbach_staff[response][\"Office\"]+\", and your phone number is \"+wolbach_staff[response][\"Phone Number\"]+\".\")"
   ]
  },
  {
   "cell_type": "code",
   "execution_count": 115,
   "metadata": {},
   "outputs": [
    {
     "name": "stdout",
     "output_type": "stream",
     "text": [
      "Rebecca Tibbitts\n"
     ]
    }
   ],
   "source": [
    "for x in wolbach_staff:\n",
    "    if wolbach_staff[x][\"title\"] == \"Digital Projects Assistant\":\n",
    "        print(x)"
   ]
  },
  {
   "cell_type": "code",
   "execution_count": 116,
   "metadata": {},
   "outputs": [],
   "source": [
    "dpalist = []\n",
    "for x in wolbach_staff:\n",
    "    if \"Assistant\" in wolbach_staff[x][\"title\"]:\n",
    "        dpalist.append(x)"
   ]
  },
  {
   "cell_type": "code",
   "execution_count": 117,
   "metadata": {},
   "outputs": [
    {
     "name": "stdout",
     "output_type": "stream",
     "text": [
      "['Sam Correia', 'Katie Frey', 'Shea Hendry', 'Giancarlo Romeo', 'Rebecca Tibbitts', 'Allie Williams']\n"
     ]
    }
   ],
   "source": [
    "print(dpalist)"
   ]
  },
  {
   "cell_type": "code",
   "execution_count": 118,
   "metadata": {},
   "outputs": [
    {
     "name": "stdout",
     "output_type": "stream",
     "text": [
      "Katie Frey\n"
     ]
    }
   ],
   "source": [
    "print(dpalist[1])"
   ]
  },
  {
   "cell_type": "markdown",
   "metadata": {},
   "source": [
    "### Even better, a List of Dictionaries"
   ]
  },
  {
   "cell_type": "code",
   "execution_count": 112,
   "metadata": {},
   "outputs": [],
   "source": [
    "wolbach_staff_list = [\n",
    "        {\"name\": \"Daina Bouquin\", \"title\": \"Head Librarian\", \"Office\": \"P-109\", \"Phone Number\": \"6-7601\"},\n",
    "        {\"name\": \"Eric Brownell\", \"title\": \"Collection Development Librarian\", \"Office\": \"PG-06\", \"Phone Number\": \"5-7289\"},\n",
    "        {\"name\": \"Nico Carver\", \"title\": \"Librarian for Collaborative Programs\", \"Office\": \"PG-06\", \"Phone Number\": \"5-7494\"},\n",
    "        {\"name\": \"Daniel Chivvis\", \"title\": \"Metadata Architecture Research Fellow\", \"Office\": \"P-127\", \"Phone Number\": \" 6-5769\"},\n",
    "        {\"name\": \"Sam Correia\", \"title\": \"Assistant Community Coordinator\", \"Office\": \"P-108\", \"Phone Number\": \"6-5769\"},\n",
    "        {\"name\": \"Katie Frey\", \"title\": \"Assistant Head Librarian\", \"Office\": \"P-107\", \"Phone Number\": \"6-7579\"},\n",
    "        {\"name\": \"Shea Hendry\", \"title\": \"Collections Assistant\", \"Office\": \"P-108\", \"Phone Number\": \"6-5769\"},\n",
    "        {\"name\": \"Maria McEachern\", \"title\": \"Reference Librarian\", \"Office\": \"P-106\", \"Phone Number\": \"5-7266\"},\n",
    "        {\"name\": \"Giancarlo Romeo\", \"title\": \"Staff Assistant\", \"Office\": \"P-110\", \"Phone Number\": \"6-7808\"},\n",
    "        {\"name\": \"Rebecca Tibbitts\", \"title\": \"Digital Projects Assistant\", \"Office\": \"P-108\", \"Phone Number\": \"6-5769\"},\n",
    "        {\"name\": \"Allie Williams\", \"title\": \"MetaSat Project Assistant\", \"Office\": \"P-108\", \"Phone Number\": \"6-5769\"}\n",
    "]"
   ]
  },
  {
   "cell_type": "code",
   "execution_count": 113,
   "metadata": {},
   "outputs": [
    {
     "name": "stdout",
     "output_type": "stream",
     "text": [
      "Daniel Chivvis\n"
     ]
    }
   ],
   "source": [
    "print(wolbach_staff_list[3][\"name\"])"
   ]
  },
  {
   "cell_type": "code",
   "execution_count": 133,
   "metadata": {},
   "outputs": [
    {
     "name": "stdout",
     "output_type": "stream",
     "text": [
      "['Daina Bouquin', 'Eric Brownell', 'Nico Carver', 'Daniel Chivvis', 'Maria McEachern']\n",
      "['Sam Correia', 'Katie Frey', 'Shea Hendry', 'Giancarlo Romeo', 'Rebecca Tibbitts', 'Allie Williams']\n",
      "[]\n"
     ]
    }
   ],
   "source": [
    "non_assistant_list = []\n",
    "assistant_list = []\n",
    "martians = []\n",
    "\n",
    "for x in wolbach_staff_list:\n",
    "    if \"Assistant\" not in x[\"title\"]:\n",
    "        #print x\n",
    "        non_assistant_list.append(x[\"name\"])\n",
    "    #elif x[\"title\"] == \"Assistant Head Librarian\":\n",
    "        #martians.append(x[\"name\"])\n",
    "    else:\n",
    "        assistant_list.append(x[\"name\"])\n",
    "\n",
    "print(non_assistant_list)\n",
    "print(assistant_list)\n",
    "print(martians)"
   ]
  },
  {
   "cell_type": "code",
   "execution_count": null,
   "metadata": {},
   "outputs": [],
   "source": []
  },
  {
   "cell_type": "code",
   "execution_count": null,
   "metadata": {},
   "outputs": [],
   "source": []
  },
  {
   "cell_type": "code",
   "execution_count": null,
   "metadata": {},
   "outputs": [],
   "source": []
  },
  {
   "cell_type": "code",
   "execution_count": null,
   "metadata": {},
   "outputs": [],
   "source": []
  }
 ],
 "metadata": {
  "anaconda-cloud": {},
  "kernelspec": {
   "display_name": "Python 3",
   "language": "python",
   "name": "python3"
  },
  "language_info": {
   "codemirror_mode": {
    "name": "ipython",
    "version": 3
   },
   "file_extension": ".py",
   "mimetype": "text/x-python",
   "name": "python",
   "nbconvert_exporter": "python",
   "pygments_lexer": "ipython3",
   "version": "3.7.6"
  }
 },
 "nbformat": 4,
 "nbformat_minor": 2
}
