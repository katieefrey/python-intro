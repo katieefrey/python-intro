{
 "cells": [
  {
   "cell_type": "code",
   "execution_count": 1,
   "metadata": {},
   "outputs": [],
   "source": [
    "import requests\n",
    "import json\n",
    "import time"
   ]
  },
  {
   "cell_type": "code",
   "execution_count": 18,
   "metadata": {},
   "outputs": [],
   "source": [
    "variable  = \"this is a string\""
   ]
  },
  {
   "cell_type": "code",
   "execution_count": 19,
   "metadata": {},
   "outputs": [
    {
     "name": "stdout",
     "output_type": "stream",
     "text": [
      "this is a str\n"
     ]
    }
   ],
   "source": [
    "print(variable[:-3])"
   ]
  },
  {
   "cell_type": "code",
   "execution_count": 20,
   "metadata": {},
   "outputs": [
    {
     "name": "stdout",
     "output_type": "stream",
     "text": [
      "16\n"
     ]
    }
   ],
   "source": [
    "print(len(variable))"
   ]
  },
  {
   "cell_type": "code",
   "execution_count": 21,
   "metadata": {},
   "outputs": [
    {
     "name": "stdout",
     "output_type": "stream",
     "text": [
      "6\n"
     ]
    }
   ],
   "source": [
    "list1 = [1,2,3,4,797,35]\n",
    "print(len(list1))"
   ]
  },
  {
   "cell_type": "code",
   "execution_count": 22,
   "metadata": {},
   "outputs": [
    {
     "name": "stdout",
     "output_type": "stream",
     "text": [
      "http://webservices.lib.harvard.edu/rest/v2/hollisplus/search/dc/?jsonp=result&q=author:Tolkien\n"
     ]
    }
   ],
   "source": [
    "auth = 'Tolkien'\n",
    "\n",
    "url = 'http://webservices.lib.harvard.edu/rest/v2/hollisplus/search/dc/?jsonp=result&q=author:'+auth\n",
    "\n",
    "print(url)\n",
    "content = requests.get(url)\n",
    "k = json.loads(content.text[7:-2])\n"
   ]
  },
  {
   "cell_type": "code",
   "execution_count": 23,
   "metadata": {},
   "outputs": [
    {
     "name": "stdout",
     "output_type": "stream",
     "text": [
      "The myths of the author: Tolkien and the medieval origins of the word hobbit.(J.R.R. Tolkien)(Critical essay)\n"
     ]
    }
   ],
   "source": [
    "title = k['results']['resultSet']['item'][0]['dc:title']\n",
    "print(title)"
   ]
  },
  {
   "cell_type": "code",
   "execution_count": 24,
   "metadata": {},
   "outputs": [
    {
     "name": "stdout",
     "output_type": "stream",
     "text": [
      "30\n"
     ]
    }
   ],
   "source": [
    "j = k['results']['resultSet']['item']\n",
    "\n",
    "num = len(j)\n",
    "print(num)"
   ]
  },
  {
   "cell_type": "code",
   "execution_count": 25,
   "metadata": {},
   "outputs": [
    {
     "name": "stdout",
     "output_type": "stream",
     "text": [
      "0\n",
      "1\n",
      "2\n",
      "3\n"
     ]
    }
   ],
   "source": [
    "for x in range(0,4):\n",
    "    print(x)"
   ]
  },
  {
   "cell_type": "code",
   "execution_count": 26,
   "metadata": {},
   "outputs": [
    {
     "name": "stdout",
     "output_type": "stream",
     "text": [
      "The myths of the author: Tolkien and the medieval origins of the word hobbit.(J.R.R. Tolkien)(Critical essay)\n",
      "THE MYTHS OF THE AUTHOR: TOLKIEN AND THE MEDIEVAL ORIGINS OF THE WORD HOBBIT\n",
      "La mappa de Lo Hobbit\n",
      "C'era una volta-- Lo hobbit : alle origini del Signore degli anelli\n",
      "The hobbit\n",
      "La caballería cabeza abajo : 'El caballero inexistente', o, La fábula de la subversión\n",
      "The Hobbit companion\n",
      "The art of the Hobbit\n",
      "Exploring J.R.R. Tolkien's The hobbit\n",
      "['The hobbit, an unexpected journey. Chronicles II, Creatures & characters', 'Creatures & characters']\n",
      "The hobbit : an unexpected journey : chronicles : art & design\n",
      "The hobbit : an unexpected journey : visual companion\n",
      "The wisdom of the shire : a short guide to a long and happy life\n",
      "The hobbit : an unexpected journey : official movie guide\n",
      "['Do světa na zkušenou, čili, o cestě tam a zase zpátky : [malá rukověť k trilogii J.R.R. Tolkiena Hobit, Pán prstenů, Silmarillion & k (ne)pohádkám)]', 'O cestách tam a zase zpátky']\n",
      "The Hobbit and Tolkien's mythology : essays on revisions and influences\n",
      "Hobbitologia\n",
      "Hobiṭ :ʻal ha-sofer G'on R. Ṭolḳin u-demutot sifro\n",
      "The Hobbit : a journey into maturity\n",
      "Die Verfahren der Textbildung in J.R.R. Tolkiens The Hobbit\n",
      "The Christian world of The hobbit\n",
      "The riddles of The hobbit\n",
      "The Wobbit : a parody\n",
      "The Hobbit and philosophy : for when you've lost your dwarves, your wizard, and your way\n",
      "Hobbits : the many lives of Bilbo, Frodo, Sam, Merry and Pippin\n",
      "Fans, blockbusterisation, and the transformation of cinematic desire : global receptions of the 'Hobbit' film trilogy\n",
      "Flora of Middle-Earth : plants of J.R.R. Tolkien's legendarium\n",
      "Queen Margrethe II of Denmark: \"People expect a woman to do things differently.\"\n",
      "Tolkien: Maker of Middle-Earth  ed. by Catherine McIlwaine (review)\n",
      "National roundup: Hobbit's home: Author Tolkien's Oxford house listed.(Guardian Home Pages)\n"
     ]
    }
   ],
   "source": [
    "for x in range(0,num):\n",
    "    print(j[x]['dc:title'])"
   ]
  },
  {
   "cell_type": "code",
   "execution_count": null,
   "metadata": {},
   "outputs": [],
   "source": []
  },
  {
   "cell_type": "code",
   "execution_count": null,
   "metadata": {},
   "outputs": [],
   "source": []
  }
 ],
 "metadata": {
  "anaconda-cloud": {},
  "kernelspec": {
   "display_name": "Python 3",
   "language": "python",
   "name": "python3"
  }
 },
 "nbformat": 4,
 "nbformat_minor": 1
}
